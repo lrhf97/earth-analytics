{
 "cells": [
  {
   "cell_type": "code",
   "execution_count": 1,
   "source": [
    "# Import packages\n",
    "import os\n",
    "import urllib\n",
    "import requests\n",
    "import math\n",
    "import matplotlib.pyplot as plt\n",
    "import seaborn as sns\n",
    "import pandas as pd\n",
    "import earthpy as et\n",
    "import hydrofunctions as hf\n",
    "\n",
    "# Date time conversion registration\n",
    "from pandas.plotting import register_matplotlib_converters\n",
    "register_matplotlib_converters()\n",
    "\n",
    "# Get the data & set working director\n",
    "# data = et.data.get_data('colorado-flood')\n",
    "# os.chdir(os.path.join(et.io.HOME, 'earth-analytics'))\n",
    "\n",
    "# Prettier plotting with seaborn\n",
    "sns.set(font_scale=1.5, style=\"whitegrid\")"
   ],
   "outputs": [],
   "metadata": {}
  },
  {
   "cell_type": "code",
   "execution_count": 2,
   "source": [
    "# Create map of stations\n",
    "hf.draw_map()"
   ],
   "outputs": [
    {
     "output_type": "execute_result",
     "data": {
      "text/plain": [
       "<IPython.core.display.HTML object>"
      ],
      "text/html": [
       "<p>Use <a href=\"http://hydrocloud.org\" target=\"_blank\">HydroCloud.org</a> to find a stream gauge. Click on the dots to learn more about a site.</p><iframe src=http://hydrocloud.org/ width=700 height=400></iframe>"
      ]
     },
     "metadata": {},
     "execution_count": 2
    }
   ],
   "metadata": {}
  },
  {
   "cell_type": "code",
   "execution_count": 6,
   "source": [
    "# # Request data for all stations in Colorado\n",
    "# PR = hf.NWIS(stateCd='CO').get_data()\n",
    "\n",
    "# # List the names for the first 5 sites in Colorado, USA\n",
    "# PR.head()"
   ],
   "outputs": [],
   "metadata": {}
  },
  {
   "cell_type": "code",
   "execution_count": 5,
   "source": [
    "# Define the site number and start and end dates that you are interested in\n",
    "site = \"06730500\"\n",
    "start = '1946-05-10'\n",
    "end = '2018-08-29'\n",
    "\n",
    "# Request data for that site and time period\n",
    "longmont_resp = hf.get_nwis(site, 'dv', start, end)\n",
    "\n",
    "# Convert the response to a json in order to use the extract_nwis_df function\n",
    "longmont_resp = longmont_resp.json()\n",
    "\n",
    "# Get metadata about the data\n",
    "hf.get_nwis(site, 'dv').json()"
   ],
   "outputs": [
    {
     "output_type": "stream",
     "name": "stdout",
     "text": [
      "Requested data from https://waterservices.usgs.gov/nwis/dv/?format=json%2C1.1&sites=06730500&startDT=1946-05-10&endDT=2018-08-29\n",
      "Requested data from https://waterservices.usgs.gov/nwis/dv/?format=json%2C1.1&sites=06730500\n"
     ]
    },
    {
     "output_type": "execute_result",
     "data": {
      "text/plain": [
       "{'name': 'ns1:timeSeriesResponseType',\n",
       " 'declaredType': 'org.cuahsi.waterml.TimeSeriesResponseType',\n",
       " 'scope': 'javax.xml.bind.JAXBElement$GlobalScope',\n",
       " 'value': {'queryInfo': {'queryURL': 'http://waterservices.usgs.gov/nwis/dv/format=json%2C1.1&sites=06730500',\n",
       "   'criteria': {'locationParam': '[ALL:06730500]',\n",
       "    'variableParam': 'ALL',\n",
       "    'parameter': []},\n",
       "   'note': [{'value': '[ALL:06730500]', 'title': 'filter:sites'},\n",
       "    {'value': '[mode=LATEST, modifiedSince=null]',\n",
       "     'title': 'filter:timeRange'},\n",
       "    {'value': 'methodIds=[ALL]', 'title': 'filter:methodId'},\n",
       "    {'value': '2021-09-02T16:07:57.502Z', 'title': 'requestDT'},\n",
       "    {'value': 'f026c5e0-0c07-11ec-88d1-2cea7f5e5ede', 'title': 'requestId'},\n",
       "    {'value': 'Provisional data are subject to revision. Go to http://waterdata.usgs.gov/nwis/help/?provisional for more information.',\n",
       "     'title': 'disclaimer'},\n",
       "    {'value': 'sdas01', 'title': 'server'}]},\n",
       "  'timeSeries': [{'sourceInfo': {'siteName': 'BOULDER CREEK AT MOUTH NEAR LONGMONT, CO',\n",
       "     'siteCode': [{'value': '06730500',\n",
       "       'network': 'NWIS',\n",
       "       'agencyCode': 'USGS'}],\n",
       "     'timeZoneInfo': {'defaultTimeZone': {'zoneOffset': '-07:00',\n",
       "       'zoneAbbreviation': 'MST'},\n",
       "      'daylightSavingsTimeZone': {'zoneOffset': '-06:00',\n",
       "       'zoneAbbreviation': 'MDT'},\n",
       "      'siteUsesDaylightSavingsTime': True},\n",
       "     'geoLocation': {'geogLocation': {'srs': 'EPSG:4326',\n",
       "       'latitude': 40.13877778,\n",
       "       'longitude': -105.0202222},\n",
       "      'localSiteXY': []},\n",
       "     'note': [],\n",
       "     'siteType': [],\n",
       "     'siteProperty': [{'value': 'ST', 'name': 'siteTypeCd'},\n",
       "      {'value': '10190005', 'name': 'hucCd'},\n",
       "      {'value': '08', 'name': 'stateCd'},\n",
       "      {'value': '08123', 'name': 'countyCd'}]},\n",
       "    'variable': {'variableCode': [{'value': '00060',\n",
       "       'network': 'NWIS',\n",
       "       'vocabulary': 'NWIS:UnitValues',\n",
       "       'variableID': 45807197,\n",
       "       'default': True}],\n",
       "     'variableName': 'Streamflow, ft&#179;/s',\n",
       "     'variableDescription': 'Discharge, cubic feet per second',\n",
       "     'valueType': 'Derived Value',\n",
       "     'unit': {'unitCode': 'ft3/s'},\n",
       "     'options': {'option': [{'value': 'Mean',\n",
       "        'name': 'Statistic',\n",
       "        'optionCode': '00003'}]},\n",
       "     'note': [],\n",
       "     'noDataValue': -999999.0,\n",
       "     'variableProperty': [],\n",
       "     'oid': '45807197'},\n",
       "    'values': [{'value': [{'value': '1.99',\n",
       "        'qualifiers': ['P'],\n",
       "        'dateTime': '2021-09-01T00:00:00.000'}],\n",
       "      'qualifier': [{'qualifierCode': 'P',\n",
       "        'qualifierDescription': 'Provisional data subject to revision.',\n",
       "        'qualifierID': 0,\n",
       "        'network': 'NWIS',\n",
       "        'vocabulary': 'uv_rmk_cd'}],\n",
       "      'qualityControlLevel': [],\n",
       "      'method': [{'methodDescription': '', 'methodID': 17666}],\n",
       "      'source': [],\n",
       "      'offset': [],\n",
       "      'sample': [],\n",
       "      'censorCode': []}],\n",
       "    'name': 'USGS:06730500:00060:00003'}]},\n",
       " 'nil': False,\n",
       " 'globalScope': True,\n",
       " 'typeSubstituted': False}"
      ]
     },
     "metadata": {},
     "execution_count": 5
    }
   ],
   "metadata": {}
  },
  {
   "cell_type": "code",
   "execution_count": 14,
   "source": [
    "# Get the data in a pandas dataframe format\n",
    "longmont_discharge = hf.extract_nwis_df(longmont_resp)\n",
    "l_discharge = pd.DataFrame(longmont_discharge[0])\n",
    "l_discharge.head()"
   ],
   "outputs": [
    {
     "output_type": "execute_result",
     "data": {
      "text/plain": [
       "                           USGS:06730500:00060:00003  \\\n",
       "datetimeUTC                                            \n",
       "1946-05-10 00:00:00+00:00                       16.0   \n",
       "1946-05-11 00:00:00+00:00                       19.0   \n",
       "1946-05-12 00:00:00+00:00                        9.0   \n",
       "1946-05-13 00:00:00+00:00                        3.0   \n",
       "1946-05-14 00:00:00+00:00                        7.8   \n",
       "\n",
       "                          USGS:06730500:00060:00003_qualifiers  \n",
       "datetimeUTC                                                     \n",
       "1946-05-10 00:00:00+00:00                                    A  \n",
       "1946-05-11 00:00:00+00:00                                    A  \n",
       "1946-05-12 00:00:00+00:00                                    A  \n",
       "1946-05-13 00:00:00+00:00                                    A  \n",
       "1946-05-14 00:00:00+00:00                                    A  "
      ],
      "text/html": [
       "<div>\n",
       "<style scoped>\n",
       "    .dataframe tbody tr th:only-of-type {\n",
       "        vertical-align: middle;\n",
       "    }\n",
       "\n",
       "    .dataframe tbody tr th {\n",
       "        vertical-align: top;\n",
       "    }\n",
       "\n",
       "    .dataframe thead th {\n",
       "        text-align: right;\n",
       "    }\n",
       "</style>\n",
       "<table border=\"1\" class=\"dataframe\">\n",
       "  <thead>\n",
       "    <tr style=\"text-align: right;\">\n",
       "      <th></th>\n",
       "      <th>USGS:06730500:00060:00003</th>\n",
       "      <th>USGS:06730500:00060:00003_qualifiers</th>\n",
       "    </tr>\n",
       "    <tr>\n",
       "      <th>datetimeUTC</th>\n",
       "      <th></th>\n",
       "      <th></th>\n",
       "    </tr>\n",
       "  </thead>\n",
       "  <tbody>\n",
       "    <tr>\n",
       "      <th>1946-05-10 00:00:00+00:00</th>\n",
       "      <td>16.0</td>\n",
       "      <td>A</td>\n",
       "    </tr>\n",
       "    <tr>\n",
       "      <th>1946-05-11 00:00:00+00:00</th>\n",
       "      <td>19.0</td>\n",
       "      <td>A</td>\n",
       "    </tr>\n",
       "    <tr>\n",
       "      <th>1946-05-12 00:00:00+00:00</th>\n",
       "      <td>9.0</td>\n",
       "      <td>A</td>\n",
       "    </tr>\n",
       "    <tr>\n",
       "      <th>1946-05-13 00:00:00+00:00</th>\n",
       "      <td>3.0</td>\n",
       "      <td>A</td>\n",
       "    </tr>\n",
       "    <tr>\n",
       "      <th>1946-05-14 00:00:00+00:00</th>\n",
       "      <td>7.8</td>\n",
       "      <td>A</td>\n",
       "    </tr>\n",
       "  </tbody>\n",
       "</table>\n",
       "</div>"
      ]
     },
     "metadata": {},
     "execution_count": 14
    }
   ],
   "metadata": {}
  },
  {
   "cell_type": "code",
   "execution_count": 15,
   "source": [
    "\n",
    "l_discharge.columns = ['discharge','flag']\n",
    "l_discharge.head()"
   ],
   "outputs": [
    {
     "output_type": "execute_result",
     "data": {
      "text/plain": [
       "                           discharge flag\n",
       "datetimeUTC                              \n",
       "1946-05-10 00:00:00+00:00       16.0    A\n",
       "1946-05-11 00:00:00+00:00       19.0    A\n",
       "1946-05-12 00:00:00+00:00        9.0    A\n",
       "1946-05-13 00:00:00+00:00        3.0    A\n",
       "1946-05-14 00:00:00+00:00        7.8    A"
      ],
      "text/html": [
       "<div>\n",
       "<style scoped>\n",
       "    .dataframe tbody tr th:only-of-type {\n",
       "        vertical-align: middle;\n",
       "    }\n",
       "\n",
       "    .dataframe tbody tr th {\n",
       "        vertical-align: top;\n",
       "    }\n",
       "\n",
       "    .dataframe thead th {\n",
       "        text-align: right;\n",
       "    }\n",
       "</style>\n",
       "<table border=\"1\" class=\"dataframe\">\n",
       "  <thead>\n",
       "    <tr style=\"text-align: right;\">\n",
       "      <th></th>\n",
       "      <th>discharge</th>\n",
       "      <th>flag</th>\n",
       "    </tr>\n",
       "    <tr>\n",
       "      <th>datetimeUTC</th>\n",
       "      <th></th>\n",
       "      <th></th>\n",
       "    </tr>\n",
       "  </thead>\n",
       "  <tbody>\n",
       "    <tr>\n",
       "      <th>1946-05-10 00:00:00+00:00</th>\n",
       "      <td>16.0</td>\n",
       "      <td>A</td>\n",
       "    </tr>\n",
       "    <tr>\n",
       "      <th>1946-05-11 00:00:00+00:00</th>\n",
       "      <td>19.0</td>\n",
       "      <td>A</td>\n",
       "    </tr>\n",
       "    <tr>\n",
       "      <th>1946-05-12 00:00:00+00:00</th>\n",
       "      <td>9.0</td>\n",
       "      <td>A</td>\n",
       "    </tr>\n",
       "    <tr>\n",
       "      <th>1946-05-13 00:00:00+00:00</th>\n",
       "      <td>3.0</td>\n",
       "      <td>A</td>\n",
       "    </tr>\n",
       "    <tr>\n",
       "      <th>1946-05-14 00:00:00+00:00</th>\n",
       "      <td>7.8</td>\n",
       "      <td>A</td>\n",
       "    </tr>\n",
       "  </tbody>\n",
       "</table>\n",
       "</div>"
      ]
     },
     "metadata": {},
     "execution_count": 15
    }
   ],
   "metadata": {}
  },
  {
   "cell_type": "code",
   "execution_count": 16,
   "source": [
    "l_discharge.tail()"
   ],
   "outputs": [
    {
     "output_type": "execute_result",
     "data": {
      "text/plain": [
       "                           discharge flag\n",
       "datetimeUTC                              \n",
       "2018-08-25 00:00:00+00:00       9.86    A\n",
       "2018-08-26 00:00:00+00:00       7.02    A\n",
       "2018-08-27 00:00:00+00:00       4.05    A\n",
       "2018-08-28 00:00:00+00:00       2.67    A\n",
       "2018-08-29 00:00:00+00:00       3.36    A"
      ],
      "text/html": [
       "<div>\n",
       "<style scoped>\n",
       "    .dataframe tbody tr th:only-of-type {\n",
       "        vertical-align: middle;\n",
       "    }\n",
       "\n",
       "    .dataframe tbody tr th {\n",
       "        vertical-align: top;\n",
       "    }\n",
       "\n",
       "    .dataframe thead th {\n",
       "        text-align: right;\n",
       "    }\n",
       "</style>\n",
       "<table border=\"1\" class=\"dataframe\">\n",
       "  <thead>\n",
       "    <tr style=\"text-align: right;\">\n",
       "      <th></th>\n",
       "      <th>discharge</th>\n",
       "      <th>flag</th>\n",
       "    </tr>\n",
       "    <tr>\n",
       "      <th>datetimeUTC</th>\n",
       "      <th></th>\n",
       "      <th></th>\n",
       "    </tr>\n",
       "  </thead>\n",
       "  <tbody>\n",
       "    <tr>\n",
       "      <th>2018-08-25 00:00:00+00:00</th>\n",
       "      <td>9.86</td>\n",
       "      <td>A</td>\n",
       "    </tr>\n",
       "    <tr>\n",
       "      <th>2018-08-26 00:00:00+00:00</th>\n",
       "      <td>7.02</td>\n",
       "      <td>A</td>\n",
       "    </tr>\n",
       "    <tr>\n",
       "      <th>2018-08-27 00:00:00+00:00</th>\n",
       "      <td>4.05</td>\n",
       "      <td>A</td>\n",
       "    </tr>\n",
       "    <tr>\n",
       "      <th>2018-08-28 00:00:00+00:00</th>\n",
       "      <td>2.67</td>\n",
       "      <td>A</td>\n",
       "    </tr>\n",
       "    <tr>\n",
       "      <th>2018-08-29 00:00:00+00:00</th>\n",
       "      <td>3.36</td>\n",
       "      <td>A</td>\n",
       "    </tr>\n",
       "  </tbody>\n",
       "</table>\n",
       "</div>"
      ]
     },
     "metadata": {},
     "execution_count": 16
    }
   ],
   "metadata": {}
  },
  {
   "cell_type": "code",
   "execution_count": 19,
   "source": [
    "# Plot using matplotlib\n",
    "fig, ax = plt.subplots(figsize=(11, 6))\n",
    "\n",
    "ax.scatter(x=l_discharge.index.values,\n",
    "           y=l_discharge[\"discharge\"],\n",
    "           marker=\"o\",\n",
    "           s=4,\n",
    "           color=\"purple\")\n",
    "\n",
    "ax.set(xlabel=\"Date\", ylabel=\"Discharge Value (CFS)\",\n",
    "       title=\"Stream Discharge - Station {} \\n {} to {}\".format(site, start, end))\n",
    "\n",
    "plt.show()"
   ],
   "outputs": [
    {
     "output_type": "stream",
     "name": "stderr",
     "text": [
      "/tmp/ipykernel_10109/452474490.py:13: UserWarning: Matplotlib is currently using agg, which is a non-GUI backend, so cannot show the figure.\n",
      "  plt.show()\n"
     ]
    }
   ],
   "metadata": {}
  },
  {
   "cell_type": "code",
   "execution_count": 20,
   "source": [
    "# add a year column to your longmont discharge data\n",
    "l_discharge[\"year\"] = l_discharge.index.year\n",
    "\n",
    "# Calculate annual max by resampling\n",
    "l_discharge_annual_max = l_discharge.resample('AS').max()\n",
    "l_discharge_annual_max.head()"
   ],
   "outputs": [
    {
     "output_type": "execute_result",
     "data": {
      "text/plain": [
       "                             discharge        flag  year\n",
       "datetimeUTC                                             \n",
       "1946-01-01 00:00:00+00:00    99.000000           A  1946\n",
       "1947-01-01 00:00:00+00:00  1930.000000           A  1947\n",
       "1948-01-01 00:00:00+00:00   339.000000           A  1948\n",
       "1949-01-01 00:00:00+00:00  2010.000000  hf.missing  1949\n",
       "1950-01-01 00:00:00+00:00    63.594991  hf.missing  1950"
      ],
      "text/html": [
       "<div>\n",
       "<style scoped>\n",
       "    .dataframe tbody tr th:only-of-type {\n",
       "        vertical-align: middle;\n",
       "    }\n",
       "\n",
       "    .dataframe tbody tr th {\n",
       "        vertical-align: top;\n",
       "    }\n",
       "\n",
       "    .dataframe thead th {\n",
       "        text-align: right;\n",
       "    }\n",
       "</style>\n",
       "<table border=\"1\" class=\"dataframe\">\n",
       "  <thead>\n",
       "    <tr style=\"text-align: right;\">\n",
       "      <th></th>\n",
       "      <th>discharge</th>\n",
       "      <th>flag</th>\n",
       "      <th>year</th>\n",
       "    </tr>\n",
       "    <tr>\n",
       "      <th>datetimeUTC</th>\n",
       "      <th></th>\n",
       "      <th></th>\n",
       "      <th></th>\n",
       "    </tr>\n",
       "  </thead>\n",
       "  <tbody>\n",
       "    <tr>\n",
       "      <th>1946-01-01 00:00:00+00:00</th>\n",
       "      <td>99.000000</td>\n",
       "      <td>A</td>\n",
       "      <td>1946</td>\n",
       "    </tr>\n",
       "    <tr>\n",
       "      <th>1947-01-01 00:00:00+00:00</th>\n",
       "      <td>1930.000000</td>\n",
       "      <td>A</td>\n",
       "      <td>1947</td>\n",
       "    </tr>\n",
       "    <tr>\n",
       "      <th>1948-01-01 00:00:00+00:00</th>\n",
       "      <td>339.000000</td>\n",
       "      <td>A</td>\n",
       "      <td>1948</td>\n",
       "    </tr>\n",
       "    <tr>\n",
       "      <th>1949-01-01 00:00:00+00:00</th>\n",
       "      <td>2010.000000</td>\n",
       "      <td>hf.missing</td>\n",
       "      <td>1949</td>\n",
       "    </tr>\n",
       "    <tr>\n",
       "      <th>1950-01-01 00:00:00+00:00</th>\n",
       "      <td>63.594991</td>\n",
       "      <td>hf.missing</td>\n",
       "      <td>1950</td>\n",
       "    </tr>\n",
       "  </tbody>\n",
       "</table>\n",
       "</div>"
      ]
     },
     "metadata": {},
     "execution_count": 20
    }
   ],
   "metadata": {}
  },
  {
   "cell_type": "code",
   "execution_count": 22,
   "source": [
    "# download usgs annual max data from figshare\n",
    "url = \"https://nwis.waterdata.usgs.gov/nwis/peak?site_no=06730500&agency_cd=USGS&format=rdb\"\n",
    "download_path = \"/home/awstclair/github_forks/earth-analytics/data/colorado-flood/downloads/annual-peak-flow.txt\"\n",
    "\n",
    "\n",
    "\n",
    "urllib.request.urlretrieve(url, download_path)"
   ],
   "outputs": [
    {
     "output_type": "execute_result",
     "data": {
      "text/plain": [
       "('/home/awstclair/github_forks/earth-analytics/data/colorado-flood/downloads/annual-peak-flow.txt',\n",
       " <http.client.HTTPMessage at 0x7db83b46f970>)"
      ]
     },
     "metadata": {},
     "execution_count": 22
    }
   ],
   "metadata": {}
  },
  {
   "cell_type": "code",
   "execution_count": 23,
   "source": [
    "# A function that counts the number of lines with a comment \n",
    "def count_the(file_url):\n",
    "    r = requests.get(file_url, stream=True)\n",
    "    file = r.text\n",
    "    count = 0\n",
    "    for line in file:\n",
    "        if line.startswith('#'):\n",
    "            count += 1\n",
    "    return count\n",
    "\n",
    "# Lines to skip\n",
    "line_to_skip = count_the(url)+1"
   ],
   "outputs": [],
   "metadata": {}
  },
  {
   "cell_type": "code",
   "execution_count": 24,
   "source": [
    "# Open the data using pandas\n",
    "usgs_annual_max = pd.read_csv(download_path,\n",
    "                              skiprows=[line_to_skip],\n",
    "                              comment=\"#\",\n",
    "                              sep='\\t',\n",
    "                              usecols=[\"peak_dt\",\"peak_va\"],\n",
    "                              parse_dates=[\"peak_dt\"],\n",
    "                              index_col=\"peak_dt\")\n",
    "\n",
    "usgs_annual_max.head()"
   ],
   "outputs": [
    {
     "output_type": "execute_result",
     "data": {
      "text/plain": [
       "            peak_va\n",
       "peak_dt            \n",
       "1927-07-29    407.0\n",
       "1928-06-04    694.0\n",
       "1929-07-23    530.0\n",
       "1930-08-18    353.0\n",
       "1931-05-29    369.0"
      ],
      "text/html": [
       "<div>\n",
       "<style scoped>\n",
       "    .dataframe tbody tr th:only-of-type {\n",
       "        vertical-align: middle;\n",
       "    }\n",
       "\n",
       "    .dataframe tbody tr th {\n",
       "        vertical-align: top;\n",
       "    }\n",
       "\n",
       "    .dataframe thead th {\n",
       "        text-align: right;\n",
       "    }\n",
       "</style>\n",
       "<table border=\"1\" class=\"dataframe\">\n",
       "  <thead>\n",
       "    <tr style=\"text-align: right;\">\n",
       "      <th></th>\n",
       "      <th>peak_va</th>\n",
       "    </tr>\n",
       "    <tr>\n",
       "      <th>peak_dt</th>\n",
       "      <th></th>\n",
       "    </tr>\n",
       "  </thead>\n",
       "  <tbody>\n",
       "    <tr>\n",
       "      <th>1927-07-29</th>\n",
       "      <td>407.0</td>\n",
       "    </tr>\n",
       "    <tr>\n",
       "      <th>1928-06-04</th>\n",
       "      <td>694.0</td>\n",
       "    </tr>\n",
       "    <tr>\n",
       "      <th>1929-07-23</th>\n",
       "      <td>530.0</td>\n",
       "    </tr>\n",
       "    <tr>\n",
       "      <th>1930-08-18</th>\n",
       "      <td>353.0</td>\n",
       "    </tr>\n",
       "    <tr>\n",
       "      <th>1931-05-29</th>\n",
       "      <td>369.0</td>\n",
       "    </tr>\n",
       "  </tbody>\n",
       "</table>\n",
       "</div>"
      ]
     },
     "metadata": {},
     "execution_count": 24
    }
   ],
   "metadata": {}
  },
  {
   "cell_type": "code",
   "execution_count": 25,
   "source": [
    "# Add a year column to the data for easier plotting\n",
    "usgs_annual_max[\"year\"] = usgs_annual_max.index.year\n",
    "\n",
    "# Are there any years that have two entries?\n",
    "usgs_annual_max[usgs_annual_max.duplicated(subset=\"year\") == True]"
   ],
   "outputs": [
    {
     "output_type": "execute_result",
     "data": {
      "text/plain": [
       "            peak_va  year\n",
       "peak_dt                  \n",
       "1947-10-15    721.0  1947\n",
       "1993-10-18    497.0  1993"
      ],
      "text/html": [
       "<div>\n",
       "<style scoped>\n",
       "    .dataframe tbody tr th:only-of-type {\n",
       "        vertical-align: middle;\n",
       "    }\n",
       "\n",
       "    .dataframe tbody tr th {\n",
       "        vertical-align: top;\n",
       "    }\n",
       "\n",
       "    .dataframe thead th {\n",
       "        text-align: right;\n",
       "    }\n",
       "</style>\n",
       "<table border=\"1\" class=\"dataframe\">\n",
       "  <thead>\n",
       "    <tr style=\"text-align: right;\">\n",
       "      <th></th>\n",
       "      <th>peak_va</th>\n",
       "      <th>year</th>\n",
       "    </tr>\n",
       "    <tr>\n",
       "      <th>peak_dt</th>\n",
       "      <th></th>\n",
       "      <th></th>\n",
       "    </tr>\n",
       "  </thead>\n",
       "  <tbody>\n",
       "    <tr>\n",
       "      <th>1947-10-15</th>\n",
       "      <td>721.0</td>\n",
       "      <td>1947</td>\n",
       "    </tr>\n",
       "    <tr>\n",
       "      <th>1993-10-18</th>\n",
       "      <td>497.0</td>\n",
       "      <td>1993</td>\n",
       "    </tr>\n",
       "  </tbody>\n",
       "</table>\n",
       "</div>"
      ]
     },
     "metadata": {},
     "execution_count": 25
    }
   ],
   "metadata": {}
  },
  {
   "cell_type": "code",
   "execution_count": 26,
   "source": [
    "# Remove duplicate years - keep the max discharge value\n",
    "usgs_annual_max = usgs_annual_max.sort_values(\n",
    "    'peak_va', ascending=False).drop_duplicates('year').sort_index()\n",
    "\n",
    "# If this returns no results you have successfully removed duplicates!\n",
    "usgs_annual_max[usgs_annual_max.duplicated(subset=\"year\") == True]"
   ],
   "outputs": [
    {
     "output_type": "execute_result",
     "data": {
      "text/plain": [
       "Empty DataFrame\n",
       "Columns: [peak_va, year]\n",
       "Index: []"
      ],
      "text/html": [
       "<div>\n",
       "<style scoped>\n",
       "    .dataframe tbody tr th:only-of-type {\n",
       "        vertical-align: middle;\n",
       "    }\n",
       "\n",
       "    .dataframe tbody tr th {\n",
       "        vertical-align: top;\n",
       "    }\n",
       "\n",
       "    .dataframe thead th {\n",
       "        text-align: right;\n",
       "    }\n",
       "</style>\n",
       "<table border=\"1\" class=\"dataframe\">\n",
       "  <thead>\n",
       "    <tr style=\"text-align: right;\">\n",
       "      <th></th>\n",
       "      <th>peak_va</th>\n",
       "      <th>year</th>\n",
       "    </tr>\n",
       "    <tr>\n",
       "      <th>peak_dt</th>\n",
       "      <th></th>\n",
       "      <th></th>\n",
       "    </tr>\n",
       "  </thead>\n",
       "  <tbody>\n",
       "  </tbody>\n",
       "</table>\n",
       "</div>"
      ]
     },
     "metadata": {},
     "execution_count": 26
    }
   ],
   "metadata": {}
  },
  {
   "cell_type": "code",
   "execution_count": 27,
   "source": [
    "# Plot calculated vs USGS annual max flow values\n",
    "fig, ax = plt.subplots(figsize=(11, 9))\n",
    "\n",
    "ax.plot(usgs_annual_max[\"year\"],\n",
    "        usgs_annual_max[\"peak_va\"],\n",
    "        color=\"purple\",\n",
    "        linestyle=':',\n",
    "        marker='o',\n",
    "        label=\"Instantaneous Value\")\n",
    "\n",
    "ax.plot(l_discharge_annual_max[\"year\"],\n",
    "        l_discharge_annual_max[\"discharge\"],\n",
    "        color=\"lightgrey\",\n",
    "        linestyle=':',\n",
    "        marker='o', label=\"Mean Daily Value\")\n",
    "ax.legend()\n",
    "ax.set_title(\n",
    "    \"Annual Maxima - Downloaded Instantaneous vs. Derived Daily Peak Flows\")\n",
    "\n",
    "plt.show()"
   ],
   "outputs": [
    {
     "output_type": "error",
     "ename": "NameError",
     "evalue": "name 'longmont_discharge_annual_max' is not defined",
     "traceback": [
      "\u001b[0;31m---------------------------------------------------------------------------\u001b[0m",
      "\u001b[0;31mNameError\u001b[0m                                 Traceback (most recent call last)",
      "\u001b[0;32m/tmp/ipykernel_10109/4202705898.py\u001b[0m in \u001b[0;36m<module>\u001b[0;34m\u001b[0m\n\u001b[1;32m      9\u001b[0m         label=\"Instantaneous Value\")\n\u001b[1;32m     10\u001b[0m \u001b[0;34m\u001b[0m\u001b[0m\n\u001b[0;32m---> 11\u001b[0;31m ax.plot(longmont_discharge_annual_max[\"year\"],\n\u001b[0m\u001b[1;32m     12\u001b[0m         \u001b[0mlongmont_discharge_annual_max\u001b[0m\u001b[0;34m[\u001b[0m\u001b[0;34m\"discharge\"\u001b[0m\u001b[0;34m]\u001b[0m\u001b[0;34m,\u001b[0m\u001b[0;34m\u001b[0m\u001b[0;34m\u001b[0m\u001b[0m\n\u001b[1;32m     13\u001b[0m         \u001b[0mcolor\u001b[0m\u001b[0;34m=\u001b[0m\u001b[0;34m\"lightgrey\"\u001b[0m\u001b[0;34m,\u001b[0m\u001b[0;34m\u001b[0m\u001b[0;34m\u001b[0m\u001b[0m\n",
      "\u001b[0;31mNameError\u001b[0m: name 'longmont_discharge_annual_max' is not defined"
     ]
    }
   ],
   "metadata": {}
  },
  {
   "cell_type": "code",
   "execution_count": null,
   "source": [],
   "outputs": [],
   "metadata": {}
  }
 ],
 "metadata": {
  "orig_nbformat": 4,
  "language_info": {
   "name": "python",
   "version": "3.8.10",
   "mimetype": "text/x-python",
   "codemirror_mode": {
    "name": "ipython",
    "version": 3
   },
   "pygments_lexer": "ipython3",
   "nbconvert_exporter": "python",
   "file_extension": ".py"
  },
  "kernelspec": {
   "name": "python3",
   "display_name": "Python 3.8.10 64-bit ('earth-analytics-python': conda)"
  },
  "interpreter": {
   "hash": "47bc13ff58131c9fe992d114246fb6dc47b65f4ecc1f8e8fe06370491c09650b"
  }
 },
 "nbformat": 4,
 "nbformat_minor": 2
}